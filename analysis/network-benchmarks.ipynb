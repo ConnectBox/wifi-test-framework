{
 "cells": [
  {
   "cell_type": "code",
   "execution_count": 287,
   "metadata": {
    "collapsed": true
   },
   "outputs": [],
   "source": [
    "import matplotlib.pyplot as plt\n",
    "import pandas as pd\n",
    "import numpy as np\n",
    "pd.options.display.max_rows=10\n",
    "%matplotlib inline"
   ]
  },
  {
   "cell_type": "code",
   "execution_count": 288,
   "metadata": {
    "collapsed": true
   },
   "outputs": [],
   "source": [
    "# %load network-benchmark.py\n",
    "#!/usr/bin/env python3\n",
    "\n",
    "import configparser\n",
    "import glob\n",
    "import io\n",
    "\n",
    "import pandas as pd\n",
    "import numpy as np\n",
    "\n",
    "\n",
    "TEST_RESULT_DIR = \\\n",
    "    \"/Users/esteele/tmp/wifi-test/root/wifi-test-results/test-run-{0}\"\n",
    "TEST_RESULT_METADATA_FILE = TEST_RESULT_DIR + \"/metadata.ini\"\n",
    "TEST_RESULT_FILES_PATTERN = TEST_RESULT_DIR + \"/*.csv\"\n",
    "\n",
    "\n",
    "def get_test_run_results(test_run_id):\n",
    "    test_result_files_glob = TEST_RESULT_FILES_PATTERN.format(test_run_id)\n",
    "    result_sio = io.StringIO()\n",
    "    for csv in glob.iglob(test_result_files_glob):\n",
    "        with open(csv) as f:\n",
    "            result_sio.write(f.read())\n",
    "\n",
    "    # Prime for reading\n",
    "    result_sio.seek(0)\n",
    "    return result_sio\n",
    "\n",
    "\n",
    "def get_dataframe_from_test_run(test_run_id):\n",
    "    raw_run_data = get_test_run_results(test_run_id)\n",
    "    summary_data = pd.read_csv(raw_run_data,\n",
    "                               comment=\"#\",\n",
    "                               names=[\"client_id\",\n",
    "                                      \"timestamp\",\n",
    "                                      \"bytes_per_sec\"])\n",
    "    # Create a time_offset column\n",
    "    summary_data[\"time_offset\"] = \\\n",
    "        summary_data[\"timestamp\"] - min(summary_data[\"timestamp\"])\n",
    "    return summary_data\n",
    "\n",
    "\n",
    "def get_tick_labels(min_value, max_value, labels_count):\n",
    "    return list(range(int(np.floor(min_value)),\n",
    "                      int(np.ceil(max_value)),\n",
    "                      int(max_value/labels_count))) + \\\n",
    "            [max_value]\n",
    "\n",
    "\n",
    "def get_graph_title_for_run(test_run_id):\n",
    "    config = configparser.ConfigParser()\n",
    "    config.read(TEST_RESULT_METADATA_FILE.format(test_run_id))\n",
    "    # Don't count the global section\n",
    "    client_count = len(config.sections()) - 1\n",
    "    stream_count = sum([int(config[s][\"parallel_run_count\"])\n",
    "                        for s in config.sections()\n",
    "                        if s != \"global\"])\n",
    "    bandwidth_desc = \"{0} bytes/sec\".format(\n",
    "        config[\"global\"][\"test_bandwidth_bps\"]\n",
    "    )\n",
    "    title = \"Run {0} against {1}{2}.\\n{3} clients ({4} streams @ {5} each)\" \\\n",
    "            .format(\n",
    "                test_run_id,\n",
    "                config[\"global\"][\"test_server_hostname\"],\n",
    "                config[\"global\"][\"extra_run_description\"],\n",
    "                client_count,\n",
    "                stream_count,\n",
    "                bandwidth_desc\n",
    "            )\n",
    "    return title\n",
    "\n",
    "\n",
    "def show_run_df_as_line_graph(df, title):\n",
    "    pivot_df = df.pivot(index=\"time_offset\",\n",
    "                        columns=\"client_id\",\n",
    "                        values=\"bytes_per_sec\")\n",
    "    ax = pivot_df.plot(figsize=(10, 10))\n",
    "    ax.set_xlabel(\"Elapsed time (sec)\")\n",
    "    ax.set_xbound(lower=0)\n",
    "    ax.set_ylabel(\"Throughput (bytes/sec)\")\n",
    "    ax.axhline(y=250000,\n",
    "               color='0.75',\n",
    "               linestyle=\"--\")\n",
    "    ax.annotate(\" 480p bitrate\",\n",
    "                (max(df[\"time_offset\"]), 250000))\n",
    "    ax.set_title(title)\n",
    "\n",
    "\n",
    "def show_run_df_as_boxplot(df, title):\n",
    "    labels = get_tick_labels(min(df[\"time_offset\"]),\n",
    "                             max(df[\"time_offset\"]),\n",
    "                             10)\n",
    "    ax2 = df.boxplot(column=\"bytes_per_sec\",\n",
    "                     by=\"time_offset\",\n",
    "                     figsize=(10, 10))\n",
    "    ax2.set_xlabel(\"Elapsed time (sec)\")\n",
    "    ax2.grid()\n",
    "    ax2.set_xticks(labels)\n",
    "    ax2.set_xticklabels(labels)\n",
    "    ax2.set_ylabel(\"Throughput (bytes/sec)\")\n",
    "    ax2.axhline(y=250000, color='0.75', linestyle=\"--\")\n",
    "    ax2.annotate(\"       480p bitrate\", (max(df[\"time_offset\"]), 250000))\n",
    "    ax2.set_title(title)\n",
    "\n",
    "# df1 = get_dataframe_from_test_run(1234)\n",
    "# df2 = get_dataframe_from_test_run(5678)\n",
    "# df1_and_df2 = pd.concat([df1, df2])\n",
    "# df1_and_df2[\"test_case\"] = \"MAF1\"\n"
   ]
  },
  {
   "cell_type": "code",
   "execution_count": 289,
   "metadata": {
    "scrolled": true
   },
   "outputs": [],
   "source": [
    "run_id = 675426226    # 2 good clients, 15 streams\n",
    "run_id2 = 544558453   # 2 good clients, 20 streams\n",
    "run_id = 1268137335   # 2 good clients, 14 streams + 1 bad client w/ 1 stream\n",
    "run_id = 552561623   # 2 good clients, 14 streams + 1 bad client w/ 1 stream. Synced\n",
    "run_id = 2141499876  # 1 client, 1 stream. new token bucket implementation from here on.\n",
    "run_id = 2140191644  # 8 clients, 2 streams @250KBps (except for client01, with 1 stream)\n",
    "run_id = 1570619147  # 8 clients, 1 stream @250KBps\n",
    "run_id = 1026668266  # 1 client, 1 stream @250KBps\n",
    "run_id = 1002549644  # 4 clients, 1 stream @250KBps\n",
    "run_id = 1019479315  # 5 clients, 1 stream @250KBps\n",
    "run_id = 848317091   # 8 clients, 1 stream @250KBps\n",
    "run_id = 1721738302  # 6 clients, 1 stream @250KBps\n",
    "run_id = 267408816   # 7 clients (1-7), 1 stream @250KBps\n",
    "run_id = 1094073741  # 7 clients (1-6,8), 1 stream @250KBps\n",
    "run_id = 1224571019  # 8 clients, 1 stream @250KBps\n",
    "run_id = 1816880742  # 7 clients, 2 stream @250KBps\n",
    "run_id = 1702631689  # 4 clients (1-4), 2 stream @250KBps\n",
    "run_id = 1160174775  # 5 clients, 2 stream @250KBps\n",
    "run_id = 602949541   # 6 clients, 2 steram @250KBps\n",
    "run_id = 957447945   # 6 clients, 2 steram @500KBps\n",
    "run_id = 342202255   # 6 clients, 2 stream @1MBps\n",
    "run_id = 1355222921  # 9 clients, 1 steram @250KBps (all rpi3 above)\n",
    "run_id = 1804322418  # 7 clients, 1 stream @250KBps (RPI0w)\n",
    "run_id = 1846334772  # 9 clients, 1 stream @250KBps (RPI0w)\n",
    "run_id = 1079992158  # 9 clients, 1 stream @250KBps (rpi3)\n",
    "run_id = 1241842586  # 9 clients, 1 stream @250KBps (neo+rt5370)\n",
    "run_id = 1395987649  # 9 clients, 1 stream @250KBps (neo+rt5370)\n",
    "run_id = 1459308851  # 9 clients, 2 sterams @250KBps (neo+rt5370)\n",
    "run_id = 1797864569  # 9 clients, 1 stream @250KBps (neo+ar9271)\n",
    "# Above here, metadata is incorrect/absent\n",
    "run_id = 1643941099  # 3 clients, 4 total streams @250KBps (rpi3)\n",
    "\n",
    "summary_data = get_dataframe_from_test_run(run_id)"
   ]
  },
  {
   "cell_type": "code",
   "execution_count": null,
   "metadata": {},
   "outputs": [
    {
     "data": {
      "text/plain": [
       "'\\ndf1 = get_dataframe_from_test_run(544558453)\\ndf2 = get_dataframe_from_test_run(552561623)\\n# Overwrite client_id with test case type\\ndf1[\"test_case\"] = \"20 streams\"\\ndf2[\"test_case\"] = \"15 streams\"\\ncdf = pd.concat([df1, df2])\\n#summary_data = pd.concat([df1, df2])\\nfig, axes = plt.subplots(ncols=2, figsize=(10, 10))\\n#show_run_df_as_line_graph(cdf,\"Wifi throughput test id: {0}\".format(run_id))\\nshow_run_df_as_line_graph(cdf,\"Wifi throughput test id: {0}\".format(run_id), grouper=\"test_case\")\\n'"
      ]
     },
     "execution_count": 290,
     "metadata": {},
     "output_type": "execute_result"
    }
   ],
   "source": [
    "\"\"\"\n",
    "df1 = get_dataframe_from_test_run(544558453)\n",
    "df2 = get_dataframe_from_test_run(552561623)\n",
    "# Overwrite client_id with test case type\n",
    "df1[\"test_case\"] = \"20 streams\"\n",
    "df2[\"test_case\"] = \"15 streams\"\n",
    "cdf = pd.concat([df1, df2])\n",
    "#summary_data = pd.concat([df1, df2])\n",
    "fig, axes = plt.subplots(ncols=2, figsize=(10, 10))\n",
    "#show_run_df_as_line_graph(cdf,\"Wifi throughput test id: {0}\".format(run_id))\n",
    "show_run_df_as_line_graph(cdf,\"Wifi throughput test id: {0}\".format(run_id), grouper=\"test_case\")\n",
    "\"\"\""
   ]
  },
  {
   "cell_type": "code",
   "execution_count": null,
   "metadata": {},
   "outputs": [],
   "source": [
    "show_run_df_as_line_graph(summary_data, get_graph_title_for_run(run_id))"
   ]
  },
  {
   "cell_type": "code",
   "execution_count": null,
   "metadata": {},
   "outputs": [],
   "source": [
    "show_run_df_as_boxplot(summary_data,                   \"Wifi throughput test id: {0}\".format(run_id))"
   ]
  }
 ],
 "metadata": {
  "kernelspec": {
   "display_name": "Python 3",
   "language": "python",
   "name": "python3"
  },
  "language_info": {
   "codemirror_mode": {
    "name": "ipython",
    "version": 3
   },
   "file_extension": ".py",
   "mimetype": "text/x-python",
   "name": "python",
   "nbconvert_exporter": "python",
   "pygments_lexer": "ipython3",
   "version": "3.6.1"
  }
 },
 "nbformat": 4,
 "nbformat_minor": 2
}
